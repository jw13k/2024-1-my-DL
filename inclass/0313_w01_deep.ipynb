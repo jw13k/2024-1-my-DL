{
  "nbformat": 4,
  "nbformat_minor": 0,
  "metadata": {
    "colab": {
      "provenance": [],
      "authorship_tag": "ABX9TyNwS2WMOXRcSLHEXDl9J4qU",
      "include_colab_link": true
    },
    "kernelspec": {
      "name": "python3",
      "display_name": "Python 3"
    },
    "language_info": {
      "name": "python"
    }
  },
  "cells": [
    {
      "cell_type": "markdown",
      "metadata": {
        "id": "view-in-github",
        "colab_type": "text"
      },
      "source": [
        "<a href=\"https://colab.research.google.com/github/jw13k/2024-1-my-DL/blob/main/inclass/0313_w01_deep.ipynb\" target=\"_parent\"><img src=\"https://colab.research.google.com/assets/colab-badge.svg\" alt=\"Open In Colab\"/></a>"
      ]
    },
    {
      "cell_type": "code",
      "execution_count": 20,
      "metadata": {
        "colab": {
          "base_uri": "https://localhost:8080/"
        },
        "id": "ykAbIUTll9Lm",
        "outputId": "6f19cb3a-9999-4279-83ee-b5488084e5cd"
      },
      "outputs": [
        {
          "output_type": "stream",
          "name": "stdout",
          "text": [
            "[4 5 6]\n"
          ]
        }
      ],
      "source": [
        "import tensorflow.compat.v1 as tf\n",
        "tf.disable_v2_behavior()\n",
        "\n",
        "a = tf.placeholder(tf.int32, shape=[3])\n",
        "\n",
        "#constant([5, 5, 5], tf.float32)\n",
        "b = tf.Variable(3)\n",
        "\n",
        "#a + b\n",
        "c = tf.add(a,b)\n",
        "\n",
        "init = tf.global_variables_initializer()\n",
        "\n",
        "with tf.compat.v1.Session() as sess:\n",
        "  sess.run(init)\n",
        "  print(sess.run(c, {a: [1, 2, 3]}))"
      ]
    },
    {
      "cell_type": "code",
      "source": [
        "import tensorflow.compat.v1 as tf\n",
        "tf.disable_v2_behavior()\n",
        "\n",
        "a = tf.placeholder(tf.int32)\n",
        "b = tf.placeholder(tf.int32)\n",
        "x = tf.placeholder(tf.float32)\n",
        "y = tf.placeholder(tf.float32)\n",
        "\n",
        "c = tf.add(a,b)\n",
        "d = tf.subtract(a,b)\n",
        "e = tf.multiply(a,b)\n",
        "f = tf.div(x,y)\n",
        "\n",
        "init = tf.global_variables_initializer()\n",
        "\n",
        "with tf.compat.v1.Session() as sess:\n",
        "  sess.run(init)\n",
        "  print(\"Plus => \" , sess.run(c, {a: [[1,2,3], [1,2,3]], b: [[3,2,3], [6,2,3]]}))\n",
        "  print(\"Minus => \" , sess.run(d, {a: [[1,2,3], [1,2,3]], b: [[3,2,3], [6,2,3]]}))\n",
        "  print(\"Multiply => \" , sess.run(e, {a: [[1,2,3], [1,2,3]], b: [[3,2,3], [6,2,3]]}))\n",
        "  print(\"Div => \" , sess.run(f, {x: [[1,2,3], [1,2,3]], y: [[3,2,3], [6,2,3]]}))"
      ],
      "metadata": {
        "colab": {
          "base_uri": "https://localhost:8080/"
        },
        "id": "OwtJ8G1Toj-r",
        "outputId": "3d85ad49-0455-4697-d89b-dd09baace489"
      },
      "execution_count": 31,
      "outputs": [
        {
          "output_type": "stream",
          "name": "stdout",
          "text": [
            "Plus =>  [[4 4 6]\n",
            " [7 4 6]]\n",
            "Minus =>  [[-2  0  0]\n",
            " [-5  0  0]]\n",
            "Multiply =>  [[3 4 9]\n",
            " [6 4 9]]\n",
            "Div =>  [[0.33333334 1.         1.        ]\n",
            " [0.16666667 1.         1.        ]]\n"
          ]
        }
      ]
    },
    {
      "cell_type": "code",
      "source": [],
      "metadata": {
        "id": "GAetfD_K06sU"
      },
      "execution_count": null,
      "outputs": []
    },
    {
      "cell_type": "code",
      "source": [
        "import tensorflow.compat.v1 as tf\n",
        "tf.disable_v2_behavior()\n",
        "\n",
        "a = tf.placeholder(tf.int32)\n",
        "b = tf.placeholder(tf.int32)\n",
        "x = tf.placeholder(tf.float32)\n",
        "y = tf.placeholder(tf.float32)\n",
        "\n",
        "c = tf.add(a,b)\n",
        "d = tf.subtract(a,b)\n",
        "e = tf.multiply(a,b)\n",
        "f = tf.div(x,y)\n",
        "\n",
        "init = tf.global_variables_initializer()\n",
        "\n",
        "with tf.compat.v1.Session() as sess:\n",
        "  sess.run(init)\n",
        "  print(\"Plus => \" , sess.run(c, {a: [[1,2,3], [1,2,3]], b: [[3,2,3], [6,2,3]]}))\n",
        "  print(\"Minus => \" , sess.run(d, {a: [[1,2,3], [1,2,3]], b: [[3,2,3], [6,2,3]]}))\n",
        "  print(\"Multiply => \" , sess.run(e, {a: [[1,2,3], [1,2,3]], b: [[3,2,3], [6,2,3]]}))\n",
        "  print(\"Div => \" , sess.run(f, {x: [[1,2,3], [1,2,3]], y: [[3,2,3], [6,2,3]]}))"
      ],
      "metadata": {
        "colab": {
          "base_uri": "https://localhost:8080/"
        },
        "outputId": "6324571c-c101-4479-c832-eed20f19b34b",
        "id": "Q5Zpy_RK0-1Q"
      },
      "execution_count": 33,
      "outputs": [
        {
          "output_type": "stream",
          "name": "stdout",
          "text": [
            "Plus =>  [[4 4 6]\n",
            " [7 4 6]]\n",
            "Minus =>  [[-2  0  0]\n",
            " [-5  0  0]]\n",
            "Multiply =>  [[3 4 9]\n",
            " [6 4 9]]\n",
            "Div =>  [[0.33333334 1.         1.        ]\n",
            " [0.16666667 1.         1.        ]]\n"
          ]
        }
      ]
    }
  ]
}